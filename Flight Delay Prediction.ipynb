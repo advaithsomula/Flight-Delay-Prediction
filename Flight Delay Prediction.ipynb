{
 "cells": [
  {
   "cell_type": "code",
   "execution_count": 150,
   "id": "d9de65cb",
   "metadata": {
    "scrolled": true
   },
   "outputs": [],
   "source": [
    "# For SQL-type queries (Spark)\n",
    "from pyspark.sql import SQLContext\n",
    "from pyspark.sql.types import *\n",
    "from pyspark.sql import Row\n",
    "from pyspark.sql.functions import udf\n",
    "from pyspark import SparkContext\n",
    "\n",
    "# For regression and other possible ML tools (Spark)\n",
    "from pyspark.mllib.regression import LabeledPoint\n",
    "from pyspark.mllib.linalg import Vectors\n",
    "from pyspark.ml.classification import LogisticRegression\n",
    "from pyspark.ml.param import Param, Params\n",
    "from pyspark.mllib.classification import LogisticRegressionWithLBFGS, LogisticRegressionModel\n",
    "from pyspark.mllib.regression import LabeledPoint\n",
    "from pyspark.mllib.stat import Statistics\n",
    "\n",
    "# Important for managing features  (Spark)\n",
    "from pyspark.ml.feature import OneHotEncoder, StringIndexer\n",
    "from pyspark.ml.feature import VectorAssembler\n",
    "\n",
    "# For displaying and other related IPython tools...\n",
    "from IPython.display import display\n",
    "from IPython.html.widgets import interact\n",
    "\n",
    "# Typycal Python tools\n",
    "import sys\n",
    "import numpy as np\n",
    "import pandas as pd\n",
    "import time\n",
    "import datetime\n",
    "import matplotlib.pyplot as plt\n",
    "import os.path\n",
    "\n",
    "# To show plots inline\n",
    "%matplotlib inline"
   ]
  },
  {
   "cell_type": "code",
   "execution_count": 151,
   "id": "7ada4221",
   "metadata": {},
   "outputs": [
    {
     "name": "stderr",
     "output_type": "stream",
     "text": [
      "/home/advaith/.local/lib/python3.8/site-packages/pyspark/sql/context.py:77: FutureWarning: Deprecated in 3.0.0. Use SparkSession.builder.getOrCreate() instead.\n",
      "  warnings.warn(\n"
     ]
    }
   ],
   "source": [
    "sc = SparkContext.getOrCreate()\n",
    "sqlContext = SQLContext(sc)\n",
    "textFile = sc.textFile('2008.csv')"
   ]
  },
  {
   "cell_type": "code",
   "execution_count": 152,
   "id": "2c40d11e",
   "metadata": {},
   "outputs": [],
   "source": [
    "textFileRDD = textFile.map(lambda x: x.split(','))\n",
    "header = textFileRDD.first()\n",
    "\n",
    "textRDD = textFileRDD.filter(lambda r: r != header)"
   ]
  },
  {
   "cell_type": "code",
   "execution_count": 153,
   "id": "dcef4e2e",
   "metadata": {},
   "outputs": [
    {
     "name": "stderr",
     "output_type": "stream",
     "text": [
      "[Stage 31:==================================================>     (19 + 2) / 21]\r"
     ]
    },
    {
     "name": "stdout",
     "output_type": "stream",
     "text": [
      "Number of records  7009729\n"
     ]
    },
    {
     "name": "stderr",
     "output_type": "stream",
     "text": [
      "                                                                                \r"
     ]
    }
   ],
   "source": [
    "num_records = textFileRDD.count()\n",
    "print ('Number of records ' , num_records)"
   ]
  },
  {
   "cell_type": "code",
   "execution_count": 154,
   "id": "e5651d70",
   "metadata": {},
   "outputs": [],
   "source": [
    "aux_ = textFileRDD.take(2)\n",
    "feature_names = aux_[0]\n",
    "feature_example = aux_[1]"
   ]
  },
  {
   "cell_type": "code",
   "execution_count": 155,
   "id": "dbc683c9",
   "metadata": {},
   "outputs": [
    {
     "name": "stdout",
     "output_type": "stream",
     "text": [
      "Features names\n",
      "['Year', 'Month', 'DayofMonth', 'DayOfWeek', 'DepTime', 'CRSDepTime', 'ArrTime', 'CRSArrTime', 'UniqueCarrier', 'FlightNum', 'TailNum', 'ActualElapsedTime', 'CRSElapsedTime', 'AirTime', 'ArrDelay', 'DepDelay', 'Origin', 'Dest', 'Distance', 'TaxiIn', 'TaxiOut', 'Cancelled', 'CancellationCode', 'Diverted', 'CarrierDelay', 'WeatherDelay', 'NASDelay', 'SecurityDelay', 'LateAircraftDelay']\n"
     ]
    }
   ],
   "source": [
    "print(\"Features names\")\n",
    "print(feature_names)"
   ]
  },
  {
   "cell_type": "code",
   "execution_count": 156,
   "id": "ca2d17ef",
   "metadata": {},
   "outputs": [
    {
     "name": "stdout",
     "output_type": "stream",
     "text": [
      "Feature example\n",
      "['2008', '1', '3', '4', '2003', '1955', '2211', '2225', 'WN', '335', 'N712SW', '128', '150', '116', '-14', '8', 'IAD', 'TPA', '810', '4', '8', '0', '', '0', 'NA', 'NA', 'NA', 'NA', 'NA']\n"
     ]
    }
   ],
   "source": [
    "print(\"Feature example\")\n",
    "print(feature_example)"
   ]
  },
  {
   "cell_type": "code",
   "execution_count": 157,
   "id": "75e762e1",
   "metadata": {},
   "outputs": [
    {
     "name": "stdout",
     "output_type": "stream",
     "text": [
      "Number of features =  29\n"
     ]
    }
   ],
   "source": [
    "print(\"Number of features = \" , len(feature_example))"
   ]
  },
  {
   "cell_type": "code",
   "execution_count": 158,
   "id": "ef80412e",
   "metadata": {},
   "outputs": [],
   "source": [
    "def parse(x):\n",
    "    try:\n",
    "        y=Row(Year=int(x[0]),\\\n",
    "          Month=int(x[1]),\\\n",
    "          DayofMonth=int(x[2]),\\\n",
    "          DayOfWeek=int(x[3]),\\\n",
    "          DepTime=int(float(x[4])), \\\n",
    "          CRSDepTime=int(x[5]),\\\n",
    "          ArrTime=int(float(x[6])),\\\n",
    "          CRSArrTime=int(x[7]), \\\n",
    "          UniqueCarrier=x[8],\\\n",
    "          DepDelay=int(float(x[15])),\\\n",
    "          Origin=x[16],\\\n",
    "          Dest=x[17], \\\n",
    "          Distance=int(float(x[18])))  \n",
    "    except:\n",
    "        y=None  \n",
    "    return y"
   ]
  },
  {
   "cell_type": "code",
   "execution_count": 159,
   "id": "e18f74af",
   "metadata": {},
   "outputs": [],
   "source": [
    "rowRDD = textRDD.map(lambda x: parse(x)).filter(lambda x: x != None)\n",
    "df = sqlContext.createDataFrame(rowRDD)"
   ]
  },
  {
   "cell_type": "code",
   "execution_count": 160,
   "id": "daeec192",
   "metadata": {},
   "outputs": [],
   "source": [
    "df = df.withColumn('DepDelayed', df['DepDelay']>15)"
   ]
  },
  {
   "cell_type": "code",
   "execution_count": 161,
   "id": "62392119",
   "metadata": {},
   "outputs": [
    {
     "data": {
      "text/plain": [
       "[Row(Year=2008, Month=1, DayofMonth=3, DayOfWeek=4, DepTime=2003, CRSDepTime=1955, ArrTime=2211, CRSArrTime=2225, UniqueCarrier='WN', DepDelay=8, Origin='IAD', Dest='TPA', Distance=810, DepDelayed=False),\n",
       " Row(Year=2008, Month=1, DayofMonth=3, DayOfWeek=4, DepTime=754, CRSDepTime=735, ArrTime=1002, CRSArrTime=1000, UniqueCarrier='WN', DepDelay=19, Origin='IAD', Dest='TPA', Distance=810, DepDelayed=True),\n",
       " Row(Year=2008, Month=1, DayofMonth=3, DayOfWeek=4, DepTime=628, CRSDepTime=620, ArrTime=804, CRSArrTime=750, UniqueCarrier='WN', DepDelay=8, Origin='IND', Dest='BWI', Distance=515, DepDelayed=False),\n",
       " Row(Year=2008, Month=1, DayofMonth=3, DayOfWeek=4, DepTime=926, CRSDepTime=930, ArrTime=1054, CRSArrTime=1100, UniqueCarrier='WN', DepDelay=-4, Origin='IND', Dest='BWI', Distance=515, DepDelayed=False),\n",
       " Row(Year=2008, Month=1, DayofMonth=3, DayOfWeek=4, DepTime=1829, CRSDepTime=1755, ArrTime=1959, CRSArrTime=1925, UniqueCarrier='WN', DepDelay=34, Origin='IND', Dest='BWI', Distance=515, DepDelayed=True)]"
      ]
     },
     "execution_count": 161,
     "metadata": {},
     "output_type": "execute_result"
    }
   ],
   "source": [
    "df.take(5)"
   ]
  },
  {
   "cell_type": "code",
   "execution_count": 162,
   "id": "e0c279b6",
   "metadata": {},
   "outputs": [],
   "source": [
    "# Function to obtain hour of day\n",
    "def get_hour(x): \n",
    "    h = int(str(int(x)).zfill(4)[:2])\n",
    "    return h\n",
    "\n",
    "# Register our function as a UDF \n",
    "f = udf(get_hour, IntegerType())"
   ]
  },
  {
   "cell_type": "code",
   "execution_count": 163,
   "id": "bd76aa2b",
   "metadata": {},
   "outputs": [
    {
     "name": "stderr",
     "output_type": "stream",
     "text": [
      "/home/advaith/.local/lib/python3.8/site-packages/pyspark/sql/dataframe.py:138: FutureWarning: Deprecated in 2.0, use createOrReplaceTempView instead.\n",
      "  warnings.warn(\n"
     ]
    }
   ],
   "source": [
    "#CRSDepTime: scheduled departure time (local, hhmm)\n",
    "df = df.withColumn('Hour', f(df.CRSDepTime))\n",
    "df.registerTempTable(\"airlineDF\")"
   ]
  },
  {
   "cell_type": "code",
   "execution_count": 164,
   "id": "3ad5babe",
   "metadata": {},
   "outputs": [
    {
     "data": {
      "text/plain": [
       "[Row(Year=2008, Month=1, DayofMonth=3, DayOfWeek=4, DepTime=2003, CRSDepTime=1955, ArrTime=2211, CRSArrTime=2225, UniqueCarrier='WN', DepDelay=8, Origin='IAD', Dest='TPA', Distance=810, DepDelayed=False, Hour=19),\n",
       " Row(Year=2008, Month=1, DayofMonth=3, DayOfWeek=4, DepTime=754, CRSDepTime=735, ArrTime=1002, CRSArrTime=1000, UniqueCarrier='WN', DepDelay=19, Origin='IAD', Dest='TPA', Distance=810, DepDelayed=True, Hour=7)]"
      ]
     },
     "execution_count": 164,
     "metadata": {},
     "output_type": "execute_result"
    },
    {
     "name": "stderr",
     "output_type": "stream",
     "text": [
      "Traceback (most recent call last):\n",
      "  File \"/opt/spark/python/lib/pyspark.zip/pyspark/daemon.py\", line 186, in manager\n",
      "  File \"/opt/spark/python/lib/pyspark.zip/pyspark/daemon.py\", line 74, in worker\n",
      "  File \"/opt/spark/python/lib/pyspark.zip/pyspark/worker.py\", line 663, in main\n",
      "    if read_int(infile) == SpecialLengths.END_OF_STREAM:\n",
      "  File \"/opt/spark/python/lib/pyspark.zip/pyspark/serializers.py\", line 564, in read_int\n",
      "    raise EOFError\n",
      "EOFError\n"
     ]
    }
   ],
   "source": [
    "df.take(2)"
   ]
  },
  {
   "cell_type": "code",
   "execution_count": 165,
   "id": "5157cb8d",
   "metadata": {},
   "outputs": [
    {
     "name": "stderr",
     "output_type": "stream",
     "text": [
      "                                                                                \r"
     ]
    }
   ],
   "source": [
    "groupedDelay = sqlContext.sql(\"SELECT Origin, count(*) conFlight,avg(DepDelay) delay \\\n",
    "                                FROM airlineDF \\\n",
    "                                GROUP BY Origin\")\n",
    "\n",
    "# ... and turn it into a Padas data frame\n",
    "df_origin = groupedDelay.toPandas()"
   ]
  },
  {
   "cell_type": "code",
   "execution_count": 166,
   "id": "5e475a38",
   "metadata": {},
   "outputs": [
    {
     "data": {
      "text/plain": [
       "(303, 3)"
      ]
     },
     "execution_count": 166,
     "metadata": {},
     "output_type": "execute_result"
    }
   ],
   "source": [
    "df_origin.shape"
   ]
  },
  {
   "cell_type": "code",
   "execution_count": 167,
   "id": "742cd260",
   "metadata": {},
   "outputs": [
    {
     "data": {
      "text/html": [
       "<div>\n",
       "<style scoped>\n",
       "    .dataframe tbody tr th:only-of-type {\n",
       "        vertical-align: middle;\n",
       "    }\n",
       "\n",
       "    .dataframe tbody tr th {\n",
       "        vertical-align: top;\n",
       "    }\n",
       "\n",
       "    .dataframe thead th {\n",
       "        text-align: right;\n",
       "    }\n",
       "</style>\n",
       "<table border=\"1\" class=\"dataframe\">\n",
       "  <thead>\n",
       "    <tr style=\"text-align: right;\">\n",
       "      <th></th>\n",
       "      <th>Origin</th>\n",
       "      <th>conFlight</th>\n",
       "      <th>delay</th>\n",
       "    </tr>\n",
       "  </thead>\n",
       "  <tbody>\n",
       "    <tr>\n",
       "      <th>0</th>\n",
       "      <td>MSY</td>\n",
       "      <td>38517</td>\n",
       "      <td>8.899759</td>\n",
       "    </tr>\n",
       "    <tr>\n",
       "      <th>1</th>\n",
       "      <td>GEG</td>\n",
       "      <td>15349</td>\n",
       "      <td>5.911395</td>\n",
       "    </tr>\n",
       "    <tr>\n",
       "      <th>2</th>\n",
       "      <td>SNA</td>\n",
       "      <td>46556</td>\n",
       "      <td>6.133237</td>\n",
       "    </tr>\n",
       "    <tr>\n",
       "      <th>3</th>\n",
       "      <td>BUR</td>\n",
       "      <td>30761</td>\n",
       "      <td>6.793797</td>\n",
       "    </tr>\n",
       "    <tr>\n",
       "      <th>4</th>\n",
       "      <td>GRB</td>\n",
       "      <td>7555</td>\n",
       "      <td>9.994044</td>\n",
       "    </tr>\n",
       "    <tr>\n",
       "      <th>5</th>\n",
       "      <td>GTF</td>\n",
       "      <td>2117</td>\n",
       "      <td>-0.491734</td>\n",
       "    </tr>\n",
       "    <tr>\n",
       "      <th>6</th>\n",
       "      <td>IDA</td>\n",
       "      <td>3038</td>\n",
       "      <td>2.464450</td>\n",
       "    </tr>\n",
       "    <tr>\n",
       "      <th>7</th>\n",
       "      <td>GRR</td>\n",
       "      <td>16117</td>\n",
       "      <td>7.818204</td>\n",
       "    </tr>\n",
       "    <tr>\n",
       "      <th>8</th>\n",
       "      <td>EUG</td>\n",
       "      <td>5652</td>\n",
       "      <td>5.474345</td>\n",
       "    </tr>\n",
       "    <tr>\n",
       "      <th>9</th>\n",
       "      <td>PVD</td>\n",
       "      <td>22063</td>\n",
       "      <td>10.251734</td>\n",
       "    </tr>\n",
       "  </tbody>\n",
       "</table>\n",
       "</div>"
      ],
      "text/plain": [
       "  Origin  conFlight      delay\n",
       "0    MSY      38517   8.899759\n",
       "1    GEG      15349   5.911395\n",
       "2    SNA      46556   6.133237\n",
       "3    BUR      30761   6.793797\n",
       "4    GRB       7555   9.994044\n",
       "5    GTF       2117  -0.491734\n",
       "6    IDA       3038   2.464450\n",
       "7    GRR      16117   7.818204\n",
       "8    EUG       5652   5.474345\n",
       "9    PVD      22063  10.251734"
      ]
     },
     "execution_count": 167,
     "metadata": {},
     "output_type": "execute_result"
    }
   ],
   "source": [
    "df_origin.head(10)"
   ]
  },
  {
   "cell_type": "code",
   "execution_count": 168,
   "id": "f0d1ca59",
   "metadata": {},
   "outputs": [],
   "source": [
    "df_aux = pd.read_csv('airports.dat', index_col=0,\\\n",
    "names = ['name', 'city', 'country','IATA','ICAO','lat','lng','alt','TZone','DST','Tz','airports',\"OurAirports\"], \\\n",
    "            header=0)"
   ]
  },
  {
   "cell_type": "code",
   "execution_count": 169,
   "id": "110cbe38",
   "metadata": {},
   "outputs": [
    {
     "data": {
      "text/html": [
       "<div>\n",
       "<style scoped>\n",
       "    .dataframe tbody tr th:only-of-type {\n",
       "        vertical-align: middle;\n",
       "    }\n",
       "\n",
       "    .dataframe tbody tr th {\n",
       "        vertical-align: top;\n",
       "    }\n",
       "\n",
       "    .dataframe thead th {\n",
       "        text-align: right;\n",
       "    }\n",
       "</style>\n",
       "<table border=\"1\" class=\"dataframe\">\n",
       "  <thead>\n",
       "    <tr style=\"text-align: right;\">\n",
       "      <th></th>\n",
       "      <th>name</th>\n",
       "      <th>city</th>\n",
       "      <th>country</th>\n",
       "      <th>IATA</th>\n",
       "      <th>ICAO</th>\n",
       "      <th>lat</th>\n",
       "      <th>lng</th>\n",
       "      <th>alt</th>\n",
       "      <th>TZone</th>\n",
       "      <th>DST</th>\n",
       "      <th>Tz</th>\n",
       "    </tr>\n",
       "  </thead>\n",
       "  <tbody>\n",
       "    <tr>\n",
       "      <th>2</th>\n",
       "      <td>Madang Airport</td>\n",
       "      <td>Madang</td>\n",
       "      <td>Papua New Guinea</td>\n",
       "      <td>MAG</td>\n",
       "      <td>AYMD</td>\n",
       "      <td>-5.207080</td>\n",
       "      <td>145.789001</td>\n",
       "      <td>20</td>\n",
       "      <td>10</td>\n",
       "      <td>U</td>\n",
       "      <td>Pacific/Port_Moresby</td>\n",
       "    </tr>\n",
       "    <tr>\n",
       "      <th>3</th>\n",
       "      <td>Mount Hagen Kagamuga Airport</td>\n",
       "      <td>Mount Hagen</td>\n",
       "      <td>Papua New Guinea</td>\n",
       "      <td>HGU</td>\n",
       "      <td>AYMH</td>\n",
       "      <td>-5.826790</td>\n",
       "      <td>144.296005</td>\n",
       "      <td>5388</td>\n",
       "      <td>10</td>\n",
       "      <td>U</td>\n",
       "      <td>Pacific/Port_Moresby</td>\n",
       "    </tr>\n",
       "    <tr>\n",
       "      <th>4</th>\n",
       "      <td>Nadzab Airport</td>\n",
       "      <td>Nadzab</td>\n",
       "      <td>Papua New Guinea</td>\n",
       "      <td>LAE</td>\n",
       "      <td>AYNZ</td>\n",
       "      <td>-6.569803</td>\n",
       "      <td>146.725977</td>\n",
       "      <td>239</td>\n",
       "      <td>10</td>\n",
       "      <td>U</td>\n",
       "      <td>Pacific/Port_Moresby</td>\n",
       "    </tr>\n",
       "    <tr>\n",
       "      <th>5</th>\n",
       "      <td>Port Moresby Jacksons International Airport</td>\n",
       "      <td>Port Moresby</td>\n",
       "      <td>Papua New Guinea</td>\n",
       "      <td>POM</td>\n",
       "      <td>AYPY</td>\n",
       "      <td>-9.443380</td>\n",
       "      <td>147.220001</td>\n",
       "      <td>146</td>\n",
       "      <td>10</td>\n",
       "      <td>U</td>\n",
       "      <td>Pacific/Port_Moresby</td>\n",
       "    </tr>\n",
       "    <tr>\n",
       "      <th>6</th>\n",
       "      <td>Wewak International Airport</td>\n",
       "      <td>Wewak</td>\n",
       "      <td>Papua New Guinea</td>\n",
       "      <td>WWK</td>\n",
       "      <td>AYWK</td>\n",
       "      <td>-3.583830</td>\n",
       "      <td>143.669006</td>\n",
       "      <td>19</td>\n",
       "      <td>10</td>\n",
       "      <td>U</td>\n",
       "      <td>Pacific/Port_Moresby</td>\n",
       "    </tr>\n",
       "    <tr>\n",
       "      <th>...</th>\n",
       "      <td>...</td>\n",
       "      <td>...</td>\n",
       "      <td>...</td>\n",
       "      <td>...</td>\n",
       "      <td>...</td>\n",
       "      <td>...</td>\n",
       "      <td>...</td>\n",
       "      <td>...</td>\n",
       "      <td>...</td>\n",
       "      <td>...</td>\n",
       "      <td>...</td>\n",
       "    </tr>\n",
       "    <tr>\n",
       "      <th>14106</th>\n",
       "      <td>Rogachyovo Air Base</td>\n",
       "      <td>Belaya</td>\n",
       "      <td>Russia</td>\n",
       "      <td>\\N</td>\n",
       "      <td>ULDA</td>\n",
       "      <td>71.616699</td>\n",
       "      <td>52.478298</td>\n",
       "      <td>272</td>\n",
       "      <td>\\N</td>\n",
       "      <td>\\N</td>\n",
       "      <td>\\N</td>\n",
       "    </tr>\n",
       "    <tr>\n",
       "      <th>14107</th>\n",
       "      <td>Ulan-Ude East Airport</td>\n",
       "      <td>Ulan Ude</td>\n",
       "      <td>Russia</td>\n",
       "      <td>\\N</td>\n",
       "      <td>XIUW</td>\n",
       "      <td>51.849998</td>\n",
       "      <td>107.737999</td>\n",
       "      <td>1670</td>\n",
       "      <td>\\N</td>\n",
       "      <td>\\N</td>\n",
       "      <td>\\N</td>\n",
       "    </tr>\n",
       "    <tr>\n",
       "      <th>14108</th>\n",
       "      <td>Krechevitsy Air Base</td>\n",
       "      <td>Novgorod</td>\n",
       "      <td>Russia</td>\n",
       "      <td>\\N</td>\n",
       "      <td>ULLK</td>\n",
       "      <td>58.625000</td>\n",
       "      <td>31.385000</td>\n",
       "      <td>85</td>\n",
       "      <td>\\N</td>\n",
       "      <td>\\N</td>\n",
       "      <td>\\N</td>\n",
       "    </tr>\n",
       "    <tr>\n",
       "      <th>14109</th>\n",
       "      <td>Desierto de Atacama Airport</td>\n",
       "      <td>Copiapo</td>\n",
       "      <td>Chile</td>\n",
       "      <td>CPO</td>\n",
       "      <td>SCAT</td>\n",
       "      <td>-27.261200</td>\n",
       "      <td>-70.779198</td>\n",
       "      <td>670</td>\n",
       "      <td>\\N</td>\n",
       "      <td>\\N</td>\n",
       "      <td>\\N</td>\n",
       "    </tr>\n",
       "    <tr>\n",
       "      <th>14110</th>\n",
       "      <td>Melitopol Air Base</td>\n",
       "      <td>Melitopol</td>\n",
       "      <td>Ukraine</td>\n",
       "      <td>\\N</td>\n",
       "      <td>UKDM</td>\n",
       "      <td>46.880001</td>\n",
       "      <td>35.305000</td>\n",
       "      <td>0</td>\n",
       "      <td>\\N</td>\n",
       "      <td>\\N</td>\n",
       "      <td>\\N</td>\n",
       "    </tr>\n",
       "  </tbody>\n",
       "</table>\n",
       "<p>7697 rows × 11 columns</p>\n",
       "</div>"
      ],
      "text/plain": [
       "                                              name          city  \\\n",
       "2                                   Madang Airport        Madang   \n",
       "3                     Mount Hagen Kagamuga Airport   Mount Hagen   \n",
       "4                                   Nadzab Airport        Nadzab   \n",
       "5      Port Moresby Jacksons International Airport  Port Moresby   \n",
       "6                      Wewak International Airport         Wewak   \n",
       "...                                            ...           ...   \n",
       "14106                          Rogachyovo Air Base        Belaya   \n",
       "14107                        Ulan-Ude East Airport      Ulan Ude   \n",
       "14108                         Krechevitsy Air Base      Novgorod   \n",
       "14109                  Desierto de Atacama Airport       Copiapo   \n",
       "14110                           Melitopol Air Base     Melitopol   \n",
       "\n",
       "                country IATA  ICAO        lat         lng   alt TZone DST  \\\n",
       "2      Papua New Guinea  MAG  AYMD  -5.207080  145.789001    20    10   U   \n",
       "3      Papua New Guinea  HGU  AYMH  -5.826790  144.296005  5388    10   U   \n",
       "4      Papua New Guinea  LAE  AYNZ  -6.569803  146.725977   239    10   U   \n",
       "5      Papua New Guinea  POM  AYPY  -9.443380  147.220001   146    10   U   \n",
       "6      Papua New Guinea  WWK  AYWK  -3.583830  143.669006    19    10   U   \n",
       "...                 ...  ...   ...        ...         ...   ...   ...  ..   \n",
       "14106            Russia   \\N  ULDA  71.616699   52.478298   272    \\N  \\N   \n",
       "14107            Russia   \\N  XIUW  51.849998  107.737999  1670    \\N  \\N   \n",
       "14108            Russia   \\N  ULLK  58.625000   31.385000    85    \\N  \\N   \n",
       "14109             Chile  CPO  SCAT -27.261200  -70.779198   670    \\N  \\N   \n",
       "14110           Ukraine   \\N  UKDM  46.880001   35.305000     0    \\N  \\N   \n",
       "\n",
       "                         Tz  \n",
       "2      Pacific/Port_Moresby  \n",
       "3      Pacific/Port_Moresby  \n",
       "4      Pacific/Port_Moresby  \n",
       "5      Pacific/Port_Moresby  \n",
       "6      Pacific/Port_Moresby  \n",
       "...                     ...  \n",
       "14106                    \\N  \n",
       "14107                    \\N  \n",
       "14108                    \\N  \n",
       "14109                    \\N  \n",
       "14110                    \\N  \n",
       "\n",
       "[7697 rows x 11 columns]"
      ]
     },
     "execution_count": 169,
     "metadata": {},
     "output_type": "execute_result"
    }
   ],
   "source": [
    "df_aux=df_aux.drop(['airports'], axis=1)\n",
    "df_aux=df_aux.drop(['OurAirports'], axis=1)\n",
    "df_aux"
   ]
  },
  {
   "cell_type": "code",
   "execution_count": 170,
   "id": "731ee954",
   "metadata": {},
   "outputs": [],
   "source": [
    "df_airports = pd.merge(df_origin, df_aux, left_on = 'Origin', right_on = 'IATA')"
   ]
  },
  {
   "cell_type": "code",
   "execution_count": 171,
   "id": "e232e8d2",
   "metadata": {},
   "outputs": [
    {
     "data": {
      "text/plain": [
       "(303, 14)"
      ]
     },
     "execution_count": 171,
     "metadata": {},
     "output_type": "execute_result"
    }
   ],
   "source": [
    "df_airports.shape"
   ]
  },
  {
   "cell_type": "code",
   "execution_count": 172,
   "id": "e01a9b0a",
   "metadata": {},
   "outputs": [
    {
     "data": {
      "text/html": [
       "<div>\n",
       "<style scoped>\n",
       "    .dataframe tbody tr th:only-of-type {\n",
       "        vertical-align: middle;\n",
       "    }\n",
       "\n",
       "    .dataframe tbody tr th {\n",
       "        vertical-align: top;\n",
       "    }\n",
       "\n",
       "    .dataframe thead th {\n",
       "        text-align: right;\n",
       "    }\n",
       "</style>\n",
       "<table border=\"1\" class=\"dataframe\">\n",
       "  <thead>\n",
       "    <tr style=\"text-align: right;\">\n",
       "      <th></th>\n",
       "      <th>Origin</th>\n",
       "      <th>conFlight</th>\n",
       "      <th>delay</th>\n",
       "      <th>name</th>\n",
       "      <th>city</th>\n",
       "      <th>country</th>\n",
       "      <th>IATA</th>\n",
       "      <th>ICAO</th>\n",
       "      <th>lat</th>\n",
       "      <th>lng</th>\n",
       "      <th>alt</th>\n",
       "      <th>TZone</th>\n",
       "      <th>DST</th>\n",
       "      <th>Tz</th>\n",
       "    </tr>\n",
       "  </thead>\n",
       "  <tbody>\n",
       "    <tr>\n",
       "      <th>0</th>\n",
       "      <td>MSY</td>\n",
       "      <td>38517</td>\n",
       "      <td>8.899759</td>\n",
       "      <td>Louis Armstrong New Orleans International Airport</td>\n",
       "      <td>New Orleans</td>\n",
       "      <td>United States</td>\n",
       "      <td>MSY</td>\n",
       "      <td>KMSY</td>\n",
       "      <td>29.993401</td>\n",
       "      <td>-90.258003</td>\n",
       "      <td>4</td>\n",
       "      <td>-6</td>\n",
       "      <td>A</td>\n",
       "      <td>America/Chicago</td>\n",
       "    </tr>\n",
       "    <tr>\n",
       "      <th>1</th>\n",
       "      <td>GEG</td>\n",
       "      <td>15349</td>\n",
       "      <td>5.911395</td>\n",
       "      <td>Spokane International Airport</td>\n",
       "      <td>Spokane</td>\n",
       "      <td>United States</td>\n",
       "      <td>GEG</td>\n",
       "      <td>KGEG</td>\n",
       "      <td>47.619900</td>\n",
       "      <td>-117.533997</td>\n",
       "      <td>2376</td>\n",
       "      <td>-8</td>\n",
       "      <td>A</td>\n",
       "      <td>America/Los_Angeles</td>\n",
       "    </tr>\n",
       "    <tr>\n",
       "      <th>2</th>\n",
       "      <td>SNA</td>\n",
       "      <td>46556</td>\n",
       "      <td>6.133237</td>\n",
       "      <td>John Wayne Airport-Orange County Airport</td>\n",
       "      <td>Santa Ana</td>\n",
       "      <td>United States</td>\n",
       "      <td>SNA</td>\n",
       "      <td>KSNA</td>\n",
       "      <td>33.675701</td>\n",
       "      <td>-117.867996</td>\n",
       "      <td>56</td>\n",
       "      <td>-8</td>\n",
       "      <td>A</td>\n",
       "      <td>America/Los_Angeles</td>\n",
       "    </tr>\n",
       "    <tr>\n",
       "      <th>3</th>\n",
       "      <td>BUR</td>\n",
       "      <td>30761</td>\n",
       "      <td>6.793797</td>\n",
       "      <td>Bob Hope Airport</td>\n",
       "      <td>Burbank</td>\n",
       "      <td>United States</td>\n",
       "      <td>BUR</td>\n",
       "      <td>KBUR</td>\n",
       "      <td>34.200699</td>\n",
       "      <td>-118.359001</td>\n",
       "      <td>778</td>\n",
       "      <td>-8</td>\n",
       "      <td>A</td>\n",
       "      <td>America/Los_Angeles</td>\n",
       "    </tr>\n",
       "    <tr>\n",
       "      <th>4</th>\n",
       "      <td>GRB</td>\n",
       "      <td>7555</td>\n",
       "      <td>9.994044</td>\n",
       "      <td>Austin Straubel International Airport</td>\n",
       "      <td>Green Bay</td>\n",
       "      <td>United States</td>\n",
       "      <td>GRB</td>\n",
       "      <td>KGRB</td>\n",
       "      <td>44.485100</td>\n",
       "      <td>-88.129601</td>\n",
       "      <td>695</td>\n",
       "      <td>-6</td>\n",
       "      <td>A</td>\n",
       "      <td>America/Chicago</td>\n",
       "    </tr>\n",
       "  </tbody>\n",
       "</table>\n",
       "</div>"
      ],
      "text/plain": [
       "  Origin  conFlight     delay  \\\n",
       "0    MSY      38517  8.899759   \n",
       "1    GEG      15349  5.911395   \n",
       "2    SNA      46556  6.133237   \n",
       "3    BUR      30761  6.793797   \n",
       "4    GRB       7555  9.994044   \n",
       "\n",
       "                                                name         city  \\\n",
       "0  Louis Armstrong New Orleans International Airport  New Orleans   \n",
       "1                      Spokane International Airport      Spokane   \n",
       "2           John Wayne Airport-Orange County Airport    Santa Ana   \n",
       "3                                   Bob Hope Airport      Burbank   \n",
       "4              Austin Straubel International Airport    Green Bay   \n",
       "\n",
       "         country IATA  ICAO        lat         lng   alt TZone DST  \\\n",
       "0  United States  MSY  KMSY  29.993401  -90.258003     4    -6   A   \n",
       "1  United States  GEG  KGEG  47.619900 -117.533997  2376    -8   A   \n",
       "2  United States  SNA  KSNA  33.675701 -117.867996    56    -8   A   \n",
       "3  United States  BUR  KBUR  34.200699 -118.359001   778    -8   A   \n",
       "4  United States  GRB  KGRB  44.485100  -88.129601   695    -6   A   \n",
       "\n",
       "                    Tz  \n",
       "0      America/Chicago  \n",
       "1  America/Los_Angeles  \n",
       "2  America/Los_Angeles  \n",
       "3  America/Los_Angeles  \n",
       "4      America/Chicago  "
      ]
     },
     "execution_count": 172,
     "metadata": {},
     "output_type": "execute_result"
    }
   ],
   "source": [
    "df_airports.head()"
   ]
  },
  {
   "cell_type": "code",
   "execution_count": 173,
   "id": "7b3e533a",
   "metadata": {},
   "outputs": [],
   "source": [
    "def sigmoid(x):\n",
    "    return 1 / (1 + np.exp(-x))\n",
    "\n",
    "def Zscore(x):\n",
    "    return (x-np.average(x))/np.std(x)"
   ]
  },
  {
   "cell_type": "code",
   "execution_count": 177,
   "id": "c335b2a8",
   "metadata": {},
   "outputs": [
    {
     "ename": "ValueError",
     "evalue": "The python kernel does not appear to be a conda environment.  Please use ``%pip install`` instead.",
     "output_type": "error",
     "traceback": [
      "\u001b[0;31m---------------------------------------------------------------------------\u001b[0m",
      "\u001b[0;31mValueError\u001b[0m                                Traceback (most recent call last)",
      "\u001b[0;32m/tmp/ipykernel_3113/737147884.py\u001b[0m in \u001b[0;36m<module>\u001b[0;34m\u001b[0m\n\u001b[0;32m----> 1\u001b[0;31m \u001b[0mget_ipython\u001b[0m\u001b[0;34m(\u001b[0m\u001b[0;34m)\u001b[0m\u001b[0;34m.\u001b[0m\u001b[0mrun_line_magic\u001b[0m\u001b[0;34m(\u001b[0m\u001b[0;34m'conda'\u001b[0m\u001b[0;34m,\u001b[0m \u001b[0;34m'install basemap'\u001b[0m\u001b[0;34m)\u001b[0m\u001b[0;34m\u001b[0m\u001b[0;34m\u001b[0m\u001b[0m\n\u001b[0m",
      "\u001b[0;32m~/.local/lib/python3.8/site-packages/IPython/core/interactiveshell.py\u001b[0m in \u001b[0;36mrun_line_magic\u001b[0;34m(self, magic_name, line, _stack_depth)\u001b[0m\n\u001b[1;32m   2362\u001b[0m                 \u001b[0mkwargs\u001b[0m\u001b[0;34m[\u001b[0m\u001b[0;34m'local_ns'\u001b[0m\u001b[0;34m]\u001b[0m \u001b[0;34m=\u001b[0m \u001b[0mself\u001b[0m\u001b[0;34m.\u001b[0m\u001b[0mget_local_scope\u001b[0m\u001b[0;34m(\u001b[0m\u001b[0mstack_depth\u001b[0m\u001b[0;34m)\u001b[0m\u001b[0;34m\u001b[0m\u001b[0;34m\u001b[0m\u001b[0m\n\u001b[1;32m   2363\u001b[0m             \u001b[0;32mwith\u001b[0m \u001b[0mself\u001b[0m\u001b[0;34m.\u001b[0m\u001b[0mbuiltin_trap\u001b[0m\u001b[0;34m:\u001b[0m\u001b[0;34m\u001b[0m\u001b[0;34m\u001b[0m\u001b[0m\n\u001b[0;32m-> 2364\u001b[0;31m                 \u001b[0mresult\u001b[0m \u001b[0;34m=\u001b[0m \u001b[0mfn\u001b[0m\u001b[0;34m(\u001b[0m\u001b[0;34m*\u001b[0m\u001b[0margs\u001b[0m\u001b[0;34m,\u001b[0m \u001b[0;34m**\u001b[0m\u001b[0mkwargs\u001b[0m\u001b[0;34m)\u001b[0m\u001b[0;34m\u001b[0m\u001b[0;34m\u001b[0m\u001b[0m\n\u001b[0m\u001b[1;32m   2365\u001b[0m             \u001b[0;32mreturn\u001b[0m \u001b[0mresult\u001b[0m\u001b[0;34m\u001b[0m\u001b[0;34m\u001b[0m\u001b[0m\n\u001b[1;32m   2366\u001b[0m \u001b[0;34m\u001b[0m\u001b[0m\n",
      "\u001b[0;32m<decorator-gen-100>\u001b[0m in \u001b[0;36mconda\u001b[0;34m(self, line)\u001b[0m\n",
      "\u001b[0;32m~/.local/lib/python3.8/site-packages/IPython/core/magic.py\u001b[0m in \u001b[0;36m<lambda>\u001b[0;34m(f, *a, **k)\u001b[0m\n\u001b[1;32m    185\u001b[0m     \u001b[0;31m# but it's overkill for just that one bit of state.\u001b[0m\u001b[0;34m\u001b[0m\u001b[0;34m\u001b[0m\u001b[0;34m\u001b[0m\u001b[0m\n\u001b[1;32m    186\u001b[0m     \u001b[0;32mdef\u001b[0m \u001b[0mmagic_deco\u001b[0m\u001b[0;34m(\u001b[0m\u001b[0marg\u001b[0m\u001b[0;34m)\u001b[0m\u001b[0;34m:\u001b[0m\u001b[0;34m\u001b[0m\u001b[0;34m\u001b[0m\u001b[0m\n\u001b[0;32m--> 187\u001b[0;31m         \u001b[0mcall\u001b[0m \u001b[0;34m=\u001b[0m \u001b[0;32mlambda\u001b[0m \u001b[0mf\u001b[0m\u001b[0;34m,\u001b[0m \u001b[0;34m*\u001b[0m\u001b[0ma\u001b[0m\u001b[0;34m,\u001b[0m \u001b[0;34m**\u001b[0m\u001b[0mk\u001b[0m\u001b[0;34m:\u001b[0m \u001b[0mf\u001b[0m\u001b[0;34m(\u001b[0m\u001b[0;34m*\u001b[0m\u001b[0ma\u001b[0m\u001b[0;34m,\u001b[0m \u001b[0;34m**\u001b[0m\u001b[0mk\u001b[0m\u001b[0;34m)\u001b[0m\u001b[0;34m\u001b[0m\u001b[0;34m\u001b[0m\u001b[0m\n\u001b[0m\u001b[1;32m    188\u001b[0m \u001b[0;34m\u001b[0m\u001b[0m\n\u001b[1;32m    189\u001b[0m         \u001b[0;32mif\u001b[0m \u001b[0mcallable\u001b[0m\u001b[0;34m(\u001b[0m\u001b[0marg\u001b[0m\u001b[0;34m)\u001b[0m\u001b[0;34m:\u001b[0m\u001b[0;34m\u001b[0m\u001b[0;34m\u001b[0m\u001b[0m\n",
      "\u001b[0;32m~/.local/lib/python3.8/site-packages/IPython/core/magics/packaging.py\u001b[0m in \u001b[0;36mconda\u001b[0;34m(self, line)\u001b[0m\n\u001b[1;32m     84\u001b[0m         \"\"\"\n\u001b[1;32m     85\u001b[0m         \u001b[0;32mif\u001b[0m \u001b[0;32mnot\u001b[0m \u001b[0m_is_conda_environment\u001b[0m\u001b[0;34m(\u001b[0m\u001b[0;34m)\u001b[0m\u001b[0;34m:\u001b[0m\u001b[0;34m\u001b[0m\u001b[0;34m\u001b[0m\u001b[0m\n\u001b[0;32m---> 86\u001b[0;31m             raise ValueError(\"The python kernel does not appear to be a conda environment.  \"\n\u001b[0m\u001b[1;32m     87\u001b[0m                              \"Please use ``%pip install`` instead.\")\n\u001b[1;32m     88\u001b[0m \u001b[0;34m\u001b[0m\u001b[0m\n",
      "\u001b[0;31mValueError\u001b[0m: The python kernel does not appear to be a conda environment.  Please use ``%pip install`` instead."
     ]
    }
   ],
   "source": [
    "conda install basemap"
   ]
  },
  {
   "cell_type": "code",
   "execution_count": 175,
   "id": "07d987cb",
   "metadata": {},
   "outputs": [
    {
     "ename": "ModuleNotFoundError",
     "evalue": "No module named 'mpl_toolkits.basemap'",
     "output_type": "error",
     "traceback": [
      "\u001b[0;31m---------------------------------------------------------------------------\u001b[0m",
      "\u001b[0;31mModuleNotFoundError\u001b[0m                       Traceback (most recent call last)",
      "\u001b[0;32m/tmp/ipykernel_3113/1651762139.py\u001b[0m in \u001b[0;36m<module>\u001b[0;34m\u001b[0m\n\u001b[0;32m----> 1\u001b[0;31m \u001b[0;32mfrom\u001b[0m \u001b[0mmpl_toolkits\u001b[0m\u001b[0;34m.\u001b[0m\u001b[0mbasemap\u001b[0m \u001b[0;32mimport\u001b[0m \u001b[0mBasemap\u001b[0m\u001b[0;34m\u001b[0m\u001b[0;34m\u001b[0m\u001b[0m\n\u001b[0m\u001b[1;32m      2\u001b[0m \u001b[0;32mimport\u001b[0m \u001b[0mmatplotlib\u001b[0m\u001b[0;34m.\u001b[0m\u001b[0mpyplot\u001b[0m \u001b[0;32mas\u001b[0m \u001b[0mplt\u001b[0m\u001b[0;34m\u001b[0m\u001b[0;34m\u001b[0m\u001b[0m\n\u001b[1;32m      3\u001b[0m \u001b[0;31m# rcParms allows setting size of the figure\u001b[0m\u001b[0;34m\u001b[0m\u001b[0;34m\u001b[0m\u001b[0;34m\u001b[0m\u001b[0m\n\u001b[1;32m      4\u001b[0m \u001b[0;32mfrom\u001b[0m \u001b[0mpylab\u001b[0m \u001b[0;32mimport\u001b[0m \u001b[0mrcParams\u001b[0m\u001b[0;34m\u001b[0m\u001b[0;34m\u001b[0m\u001b[0m\n\u001b[1;32m      5\u001b[0m \u001b[0mget_ipython\u001b[0m\u001b[0;34m(\u001b[0m\u001b[0;34m)\u001b[0m\u001b[0;34m.\u001b[0m\u001b[0mrun_line_magic\u001b[0m\u001b[0;34m(\u001b[0m\u001b[0;34m'matplotlib'\u001b[0m\u001b[0;34m,\u001b[0m \u001b[0;34m'inline'\u001b[0m\u001b[0;34m)\u001b[0m\u001b[0;34m\u001b[0m\u001b[0;34m\u001b[0m\u001b[0m\n",
      "\u001b[0;31mModuleNotFoundError\u001b[0m: No module named 'mpl_toolkits.basemap'"
     ]
    }
   ],
   "source": [
    "from mpl_toolkits.basemap import Basemap\n",
    "import matplotlib.pyplot as plt\n",
    "# rcParms allows setting size of the figure\n",
    "from pylab import rcParams\n",
    "%matplotlib inline"
   ]
  },
  {
   "cell_type": "code",
   "execution_count": null,
   "id": "7b291685",
   "metadata": {},
   "outputs": [],
   "source": [
    "# For the map itself...\n",
    "\n",
    "\n",
    "# We set size of the figure\n",
    "rcParams['figure.figsize'] = (14,10)\n",
    "\n",
    "# Set parameters for plotting the map\n",
    "my_map = Basemap(projection='merc',\n",
    "            resolution = 'l', area_thresh = 1000.0,\n",
    "            llcrnrlon=-130,\n",
    "                 llcrnrlat=22, #min longitude (llcrnrlon) and latitude (llcrnrlat)\n",
    "                urcrnrlon=-60,\n",
    "                 urcrnrlat=50) #max longitude (urcrnrlon) and latitude (urcrnrlat)\n",
    "\n",
    "# Add features we want to show in the map...\n",
    "my_map.drawcoastlines()\n",
    "my_map.drawcountries()\n",
    "my_map.drawmapboundary()\n",
    "my_map.fillcontinents(color = 'white', alpha = 0.3)\n",
    "my_map.shadedrelief()\n",
    "\n",
    "# This line is to creat a colored map\n",
    "colors = plt.get_cmap('hot')(np.linspace(0.0, 1.0, 30))\n",
    "colors=np.flipud(colors)\n",
    "\n",
    "# This set of instructions is used to genarate scatter plot in the map\n",
    "countrange=max(df_airports['conFlight'])-min(df_airports['conFlight'])\n",
    "# The following array normalizes the values in the 'delay' df_airports dataframe\n",
    "# (assigns zscore to them) and determins its likelihood to be delayed by means\n",
    "# of the sigmoid function.\n",
    "al=np.array([sigmoid(x) for x in zscore(df_airports['delay'])])\n",
    "xs,ys = my_map(np.asarray(df_airports['lng']), np.asarray(df_airports['lat']))\n",
    "val=df_airports['conFlight']*4000.0/countrange\n",
    "\n",
    "my_map.scatter(xs, ys,  marker='o', s= val, alpha = 0.8,\n",
    "               color=colors[(al*20).astype(int)])\n",
    "\n",
    "# Set of instructions to add text\n",
    "df_text=df_airports[(df_airports['conFlight']>60000) &\n",
    "                    (df_airports['IATA'] != 'HNL')]\n",
    "xt,yt = my_map(np.asarray(df_text['lng']), np.asarray(df_text['lat']))\n",
    "txt=np.asarray(df_text['IATA'])\n",
    "zp=zip(xt,yt,txt)\n",
    "\n",
    "for row in zp:\n",
    "    plt.text(row[0],row[1],row[2], fontsize=10, color='blue',)\n",
    "\n",
    "print(\"Each marker is an airport.\")\n",
    "print(\"Size of markers: Airport Traffic (larger means higher number of flights in year)\")\n",
    "print(\"Color of markers: Average Flight Delay (Redder means longer delays)\")\n",
    "\n",
    "plt.show()"
   ]
  },
  {
   "cell_type": "code",
   "execution_count": null,
   "id": "41167eec",
   "metadata": {},
   "outputs": [],
   "source": []
  }
 ],
 "metadata": {
  "kernelspec": {
   "display_name": "Python 3 (ipykernel)",
   "language": "python",
   "name": "python3"
  },
  "language_info": {
   "codemirror_mode": {
    "name": "ipython",
    "version": 3
   },
   "file_extension": ".py",
   "mimetype": "text/x-python",
   "name": "python",
   "nbconvert_exporter": "python",
   "pygments_lexer": "ipython3",
   "version": "3.7.11"
  }
 },
 "nbformat": 4,
 "nbformat_minor": 5
}
